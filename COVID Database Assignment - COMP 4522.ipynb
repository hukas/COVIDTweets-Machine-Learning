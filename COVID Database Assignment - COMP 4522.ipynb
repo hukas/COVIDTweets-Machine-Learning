{
 "cells": [
  {
   "cell_type": "markdown",
   "metadata": {},
   "source": [
    "# COVID Database Assignment"
   ]
  },
  {
   "cell_type": "markdown",
   "metadata": {},
   "source": [
    "By Justin and Hudson Ukass"
   ]
  },
  {
   "cell_type": "markdown",
   "metadata": {},
   "source": [
    "Notes: \n"
   ]
  },
  {
   "cell_type": "code",
   "execution_count": 2,
   "metadata": {},
   "outputs": [
    {
     "data": {
      "text/html": [
       "<div>\n",
       "<style scoped>\n",
       "    .dataframe tbody tr th:only-of-type {\n",
       "        vertical-align: middle;\n",
       "    }\n",
       "\n",
       "    .dataframe tbody tr th {\n",
       "        vertical-align: top;\n",
       "    }\n",
       "\n",
       "    .dataframe thead th {\n",
       "        text-align: right;\n",
       "    }\n",
       "</style>\n",
       "<table border=\"1\" class=\"dataframe\">\n",
       "  <thead>\n",
       "    <tr style=\"text-align: right;\">\n",
       "      <th></th>\n",
       "      <th>id</th>\n",
       "      <th>user_name</th>\n",
       "      <th>user_location</th>\n",
       "      <th>user_description</th>\n",
       "      <th>user_created</th>\n",
       "      <th>user_followers</th>\n",
       "      <th>user_friends</th>\n",
       "      <th>user_favourites</th>\n",
       "      <th>user_verified</th>\n",
       "      <th>date</th>\n",
       "      <th>text</th>\n",
       "      <th>hashtags</th>\n",
       "      <th>source</th>\n",
       "      <th>retweets</th>\n",
       "      <th>favorites</th>\n",
       "      <th>is_retweet</th>\n",
       "    </tr>\n",
       "  </thead>\n",
       "  <tbody>\n",
       "    <tr>\n",
       "      <th>51390</th>\n",
       "      <td>1377588630240198663</td>\n",
       "      <td>ᚷᚱᛁᛗᚾᛁᚱ ʕ´•ᴥ•`ʔ #DestroyTheAadhaar</td>\n",
       "      <td>Mumbai, India</td>\n",
       "      <td>Hidden from the second sight, \\nthe third eye,...</td>\n",
       "      <td>2016-11-29 12:01:47</td>\n",
       "      <td>363</td>\n",
       "      <td>661</td>\n",
       "      <td>92614</td>\n",
       "      <td>False</td>\n",
       "      <td>2021-04-01 11:48:18</td>\n",
       "      <td>New restrictions for AZ/Oxford COVID19 vaccine...</td>\n",
       "      <td>['Canada', 'Germany', 'Astrazeneca']</td>\n",
       "      <td>Twitter for Android</td>\n",
       "      <td>0</td>\n",
       "      <td>0</td>\n",
       "      <td>False</td>\n",
       "    </tr>\n",
       "    <tr>\n",
       "      <th>51391</th>\n",
       "      <td>1377587878558060546</td>\n",
       "      <td>Rahul M Maheswari 🇮🇳</td>\n",
       "      <td>Kolkata, West Bengal</td>\n",
       "      <td>born 4th Sep, LT Investor, professional, lifel...</td>\n",
       "      <td>2010-02-04 04:48:28</td>\n",
       "      <td>2007</td>\n",
       "      <td>2072</td>\n",
       "      <td>2054</td>\n",
       "      <td>False</td>\n",
       "      <td>2021-04-01 11:45:19</td>\n",
       "      <td>@BabariaJaidip @priyankac19 I still stand by i...</td>\n",
       "      <td>NaN</td>\n",
       "      <td>Twitter for iPhone</td>\n",
       "      <td>0</td>\n",
       "      <td>0</td>\n",
       "      <td>False</td>\n",
       "    </tr>\n",
       "  </tbody>\n",
       "</table>\n",
       "</div>"
      ],
      "text/plain": [
       "                        id                           user_name  \\\n",
       "51390  1377588630240198663  ᚷᚱᛁᛗᚾᛁᚱ ʕ´•ᴥ•`ʔ #DestroyTheAadhaar   \n",
       "51391  1377587878558060546                Rahul M Maheswari 🇮🇳   \n",
       "\n",
       "              user_location  \\\n",
       "51390         Mumbai, India   \n",
       "51391  Kolkata, West Bengal   \n",
       "\n",
       "                                        user_description         user_created  \\\n",
       "51390  Hidden from the second sight, \\nthe third eye,...  2016-11-29 12:01:47   \n",
       "51391  born 4th Sep, LT Investor, professional, lifel...  2010-02-04 04:48:28   \n",
       "\n",
       "       user_followers  user_friends  user_favourites  user_verified  \\\n",
       "51390             363           661            92614          False   \n",
       "51391            2007          2072             2054          False   \n",
       "\n",
       "                      date                                               text  \\\n",
       "51390  2021-04-01 11:48:18  New restrictions for AZ/Oxford COVID19 vaccine...   \n",
       "51391  2021-04-01 11:45:19  @BabariaJaidip @priyankac19 I still stand by i...   \n",
       "\n",
       "                                   hashtags               source  retweets  \\\n",
       "51390  ['Canada', 'Germany', 'Astrazeneca']  Twitter for Android         0   \n",
       "51391                                   NaN   Twitter for iPhone         0   \n",
       "\n",
       "       favorites  is_retweet  \n",
       "51390          0       False  \n",
       "51391          0       False  "
      ]
     },
     "execution_count": 2,
     "metadata": {},
     "output_type": "execute_result"
    }
   ],
   "source": [
    "import sklearn as sk\n",
    "from sklearn.linear_model import LogisticRegression\n",
    "import os\n",
    "import pandas as pd\n",
    "import numpy as np\n",
    "from pandas import DataFrame\n",
    "import altair as alt\n",
    "import spacy as sp\n",
    "\n",
    "os.chdir('/Users/hudso/OneDrive/Documents/COMP 4522/COVIDTweets-Machine-Learning')\n",
    "sp.load('en_core_web_sm')\n",
    "covid = pd.read_csv(\"covidtweets.csv\")\n",
    "\n",
    "covid.tail(2)"
   ]
  },
  {
   "cell_type": "code",
   "execution_count": 3,
   "metadata": {},
   "outputs": [
    {
     "data": {
      "text/plain": [
       "id                  False\n",
       "user_name           False\n",
       "user_location        True\n",
       "user_description     True\n",
       "user_created        False\n",
       "user_followers      False\n",
       "user_friends        False\n",
       "user_favourites     False\n",
       "user_verified       False\n",
       "date                False\n",
       "text                False\n",
       "hashtags             True\n",
       "source               True\n",
       "retweets            False\n",
       "favorites           False\n",
       "is_retweet          False\n",
       "dtype: bool"
      ]
     },
     "execution_count": 3,
     "metadata": {},
     "output_type": "execute_result"
    }
   ],
   "source": [
    "covid[\"user_created\"] = pd.to_datetime(covid[\"user_created\"], errors='coerce')\n",
    "covid[\"date\"] = pd.to_datetime(covid[\"date\"], errors='coerce')\n",
    "\n",
    "#wsb[\"timestamp\"].dt.day\n",
    "#wsb[\"timestamp\"].dt.month\n",
    "#wsb[\"timestamp\"].dt.year\n",
    "\n",
    "covid.isnull().any()\n"
   ]
  },
  {
   "cell_type": "code",
   "execution_count": null,
   "metadata": {},
   "outputs": [],
   "source": []
  },
  {
   "cell_type": "code",
   "execution_count": null,
   "metadata": {},
   "outputs": [],
   "source": []
  },
  {
   "cell_type": "code",
   "execution_count": null,
   "metadata": {},
   "outputs": [],
   "source": []
  }
 ],
 "metadata": {
  "kernelspec": {
   "display_name": "Python 3",
   "language": "python",
   "name": "python3"
  },
  "language_info": {
   "codemirror_mode": {
    "name": "ipython",
    "version": 3
   },
   "file_extension": ".py",
   "mimetype": "text/x-python",
   "name": "python",
   "nbconvert_exporter": "python",
   "pygments_lexer": "ipython3",
   "version": "3.8.5"
  }
 },
 "nbformat": 4,
 "nbformat_minor": 4
}
