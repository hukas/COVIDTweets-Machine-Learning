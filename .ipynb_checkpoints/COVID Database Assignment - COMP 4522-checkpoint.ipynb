{
 "cells": [
  {
   "cell_type": "markdown",
   "metadata": {},
   "source": [
    "# COVID Tweets - Database Assignment\n",
    "#### April 16th, 2021 \n",
    "\n",
    "##### By Hudson Ukass and Justin Przybliski\n",
    "\n",
    "Notes: "
   ]
  },
  {
   "cell_type": "code",
   "execution_count": 125,
   "metadata": {},
   "outputs": [
    {
     "data": {
      "text/html": [
       "<div>\n",
       "<style scoped>\n",
       "    .dataframe tbody tr th:only-of-type {\n",
       "        vertical-align: middle;\n",
       "    }\n",
       "\n",
       "    .dataframe tbody tr th {\n",
       "        vertical-align: top;\n",
       "    }\n",
       "\n",
       "    .dataframe thead th {\n",
       "        text-align: right;\n",
       "    }\n",
       "</style>\n",
       "<table border=\"1\" class=\"dataframe\">\n",
       "  <thead>\n",
       "    <tr style=\"text-align: right;\">\n",
       "      <th></th>\n",
       "      <th>id</th>\n",
       "      <th>user_name</th>\n",
       "      <th>user_followers</th>\n",
       "      <th>user_friends</th>\n",
       "      <th>user_favourites</th>\n",
       "      <th>user_verified</th>\n",
       "      <th>date</th>\n",
       "      <th>text</th>\n",
       "      <th>retweets</th>\n",
       "      <th>favorites</th>\n",
       "      <th>is_retweet</th>\n",
       "      <th>Confirmed</th>\n",
       "      <th>Recovered</th>\n",
       "      <th>Deaths</th>\n",
       "      <th>Increase rate</th>\n",
       "    </tr>\n",
       "  </thead>\n",
       "  <tbody>\n",
       "    <tr>\n",
       "      <th>43</th>\n",
       "      <td>1337728701820268544</td>\n",
       "      <td>City A.M.</td>\n",
       "      <td>66224</td>\n",
       "      <td>603</td>\n",
       "      <td>771</td>\n",
       "      <td>True</td>\n",
       "      <td>2020-12-12</td>\n",
       "      <td>Trump announces #vaccine rollout 'in less than...</td>\n",
       "      <td>0</td>\n",
       "      <td>2</td>\n",
       "      <td>False</td>\n",
       "      <td>71903752</td>\n",
       "      <td>46933277</td>\n",
       "      <td>1609529</td>\n",
       "      <td>0.890777</td>\n",
       "    </tr>\n",
       "    <tr>\n",
       "      <th>44</th>\n",
       "      <td>1337727767551553536</td>\n",
       "      <td>Daily News Egypt</td>\n",
       "      <td>278080</td>\n",
       "      <td>116</td>\n",
       "      <td>765</td>\n",
       "      <td>True</td>\n",
       "      <td>2020-12-12</td>\n",
       "      <td>#FDA authorizes #PfizerBioNTech #coronavirus v...</td>\n",
       "      <td>1</td>\n",
       "      <td>1</td>\n",
       "      <td>False</td>\n",
       "      <td>71903752</td>\n",
       "      <td>46933277</td>\n",
       "      <td>1609529</td>\n",
       "      <td>0.890777</td>\n",
       "    </tr>\n",
       "    <tr>\n",
       "      <th>269</th>\n",
       "      <td>1337963149232926723</td>\n",
       "      <td>LatestLY</td>\n",
       "      <td>67096</td>\n",
       "      <td>344</td>\n",
       "      <td>118</td>\n",
       "      <td>True</td>\n",
       "      <td>2020-12-13</td>\n",
       "      <td>COVID-19 Vaccine Update: Initial Doses of Pfiz...</td>\n",
       "      <td>0</td>\n",
       "      <td>1</td>\n",
       "      <td>False</td>\n",
       "      <td>72434583</td>\n",
       "      <td>47328396</td>\n",
       "      <td>1616986</td>\n",
       "      <td>0.738252</td>\n",
       "    </tr>\n",
       "    <tr>\n",
       "      <th>276</th>\n",
       "      <td>1337934174443847680</td>\n",
       "      <td>Nora O'Brien, CEM</td>\n",
       "      <td>4220</td>\n",
       "      <td>4615</td>\n",
       "      <td>7901</td>\n",
       "      <td>False</td>\n",
       "      <td>2020-12-13</td>\n",
       "      <td>#PfizerBioNTech #COVID19vaccines are prepped f...</td>\n",
       "      <td>0</td>\n",
       "      <td>1</td>\n",
       "      <td>False</td>\n",
       "      <td>72434583</td>\n",
       "      <td>47328396</td>\n",
       "      <td>1616986</td>\n",
       "      <td>0.738252</td>\n",
       "    </tr>\n",
       "    <tr>\n",
       "      <th>277</th>\n",
       "      <td>1337933177097134082</td>\n",
       "      <td>rao tadepalli</td>\n",
       "      <td>273</td>\n",
       "      <td>66</td>\n",
       "      <td>557</td>\n",
       "      <td>False</td>\n",
       "      <td>2020-12-13</td>\n",
       "      <td>What we can learn from the victory over #Polio...</td>\n",
       "      <td>1</td>\n",
       "      <td>7</td>\n",
       "      <td>False</td>\n",
       "      <td>72434583</td>\n",
       "      <td>47328396</td>\n",
       "      <td>1616986</td>\n",
       "      <td>0.738252</td>\n",
       "    </tr>\n",
       "  </tbody>\n",
       "</table>\n",
       "</div>"
      ],
      "text/plain": [
       "                      id          user_name  user_followers  user_friends  \\\n",
       "43   1337728701820268544          City A.M.           66224           603   \n",
       "44   1337727767551553536   Daily News Egypt          278080           116   \n",
       "269  1337963149232926723           LatestLY           67096           344   \n",
       "276  1337934174443847680  Nora O'Brien, CEM            4220          4615   \n",
       "277  1337933177097134082      rao tadepalli             273            66   \n",
       "\n",
       "     user_favourites  user_verified       date  \\\n",
       "43               771           True 2020-12-12   \n",
       "44               765           True 2020-12-12   \n",
       "269              118           True 2020-12-13   \n",
       "276             7901          False 2020-12-13   \n",
       "277              557          False 2020-12-13   \n",
       "\n",
       "                                                  text  retweets  favorites  \\\n",
       "43   Trump announces #vaccine rollout 'in less than...         0          2   \n",
       "44   #FDA authorizes #PfizerBioNTech #coronavirus v...         1          1   \n",
       "269  COVID-19 Vaccine Update: Initial Doses of Pfiz...         0          1   \n",
       "276  #PfizerBioNTech #COVID19vaccines are prepped f...         0          1   \n",
       "277  What we can learn from the victory over #Polio...         1          7   \n",
       "\n",
       "     is_retweet  Confirmed  Recovered   Deaths  Increase rate  \n",
       "43        False   71903752   46933277  1609529       0.890777  \n",
       "44        False   71903752   46933277  1609529       0.890777  \n",
       "269       False   72434583   47328396  1616986       0.738252  \n",
       "276       False   72434583   47328396  1616986       0.738252  \n",
       "277       False   72434583   47328396  1616986       0.738252  "
      ]
     },
     "execution_count": 125,
     "metadata": {},
     "output_type": "execute_result"
    }
   ],
   "source": [
    "import sklearn as sk\n",
    "import os\n",
    "import pandas as pd\n",
    "import numpy as np\n",
    "from pandas import DataFrame\n",
    "import altair as alt\n",
    "import spacy as sp\n",
    "import matplotlib.pyplot as plt\n",
    "os.chdir('/Users/hudso/OneDrive/Documents/COMP 4522/COVIDTweets-Machine-Learning')\n",
    "sp.load('en_core_web_sm')\n",
    "\n",
    "#Covid Tweets dataset\n",
    "covidTweets = pd.read_csv(\"covidtweets.csv\")\n",
    "#Covid Cases Data\n",
    "#https://www.kaggle.com/gauravduttakiit/covid-19\n",
    "covidCases = pd.read_csv(\"worldwide-aggregate.csv\")\n",
    "\n",
    "#Datetime conversions and hour/min/sec rounding \n",
    "#for covidTweets and CovidCases df's.\n",
    "covidTweets[\"user_created\"] = pd.to_datetime(covidTweets[\"user_created\"], errors='coerce')\n",
    "covidTweets[\"date\"] = pd.to_datetime(covidTweets[\"date\"], errors='coerce')\n",
    "covidCases[\"Date\"] = pd.to_datetime(covidCases[\"Date\"], errors='coerce')\n",
    "covidTweets = covidTweets.assign(date=covidTweets.date.dt.round('D'))\n",
    "\n",
    "#Drop null and irellevant columns about user profiles \n",
    "tweetCase = covid.drop(columns=['user_location', 'user_description', 'user_created', 'hashtags', 'source'])\n",
    "\n",
    "#Merge the covidTweets and covidCases on their dates.\n",
    "tweetCase = pd.merge(left=tweetCase, right=covidCases, how='left', left_on='date', \n",
    "                  right_on='Date')\n",
    "tweetCase = tweetCase.drop(columns='Date')\n",
    "tweetCase = tweetCase.sort_values(by='date', ascending=True)\n",
    "tweetCase.head()"
   ]
  },
  {
   "cell_type": "markdown",
   "metadata": {},
   "source": [
    "# Machine Learning - Linear Regression\n",
    "With help of Kaggle Tutorial\n"
   ]
  },
  {
   "cell_type": "code",
   "execution_count": 67,
   "metadata": {},
   "outputs": [
    {
     "data": {
      "text/html": [
       "<div>\n",
       "<style scoped>\n",
       "    .dataframe tbody tr th:only-of-type {\n",
       "        vertical-align: middle;\n",
       "    }\n",
       "\n",
       "    .dataframe tbody tr th {\n",
       "        vertical-align: top;\n",
       "    }\n",
       "\n",
       "    .dataframe thead th {\n",
       "        text-align: right;\n",
       "    }\n",
       "</style>\n",
       "<table border=\"1\" class=\"dataframe\">\n",
       "  <thead>\n",
       "    <tr style=\"text-align: right;\">\n",
       "      <th></th>\n",
       "      <th>user_friends</th>\n",
       "      <th>user_followers</th>\n",
       "      <th>user_favourites</th>\n",
       "      <th>favorites</th>\n",
       "    </tr>\n",
       "  </thead>\n",
       "  <tbody>\n",
       "    <tr>\n",
       "      <th>0</th>\n",
       "      <td>1692</td>\n",
       "      <td>405</td>\n",
       "      <td>3247</td>\n",
       "      <td>0</td>\n",
       "    </tr>\n",
       "    <tr>\n",
       "      <th>2</th>\n",
       "      <td>88</td>\n",
       "      <td>10</td>\n",
       "      <td>155</td>\n",
       "      <td>0</td>\n",
       "    </tr>\n",
       "    <tr>\n",
       "      <th>6</th>\n",
       "      <td>5001</td>\n",
       "      <td>2731</td>\n",
       "      <td>69344</td>\n",
       "      <td>4</td>\n",
       "    </tr>\n",
       "    <tr>\n",
       "      <th>9</th>\n",
       "      <td>2368</td>\n",
       "      <td>671</td>\n",
       "      <td>20469</td>\n",
       "      <td>0</td>\n",
       "    </tr>\n",
       "    <tr>\n",
       "      <th>10</th>\n",
       "      <td>78</td>\n",
       "      <td>1302</td>\n",
       "      <td>339</td>\n",
       "      <td>0</td>\n",
       "    </tr>\n",
       "  </tbody>\n",
       "</table>\n",
       "</div>"
      ],
      "text/plain": [
       "    user_friends  user_followers  user_favourites  favorites\n",
       "0           1692             405             3247          0\n",
       "2             88              10              155          0\n",
       "6           5001            2731            69344          4\n",
       "9           2368             671            20469          0\n",
       "10            78            1302              339          0"
      ]
     },
     "execution_count": 67,
     "metadata": {},
     "output_type": "execute_result"
    }
   ],
   "source": [
    "#Define the parameters of X and y here. \n",
    "covidN = covid.dropna()\n",
    "\n",
    "#Prediction target\n",
    "y = covidN.retweets\n",
    "\n",
    "#Prediction criteria \n",
    "covid_features = ['user_friends', 'user_followers', 'user_favourites', \n",
    "                    'favorites']\n",
    "X = covidN[covid_features]\n",
    "X.head()"
   ]
  },
  {
   "cell_type": "code",
   "execution_count": 90,
   "metadata": {},
   "outputs": [
    {
     "name": "stdout",
     "output_type": "stream",
     "text": [
      "Making retweet predictions for the following 5 Tweets:\n",
      "    user_friends  user_followers  user_favourites  favorites\n",
      "0           1692             405             3247          0\n",
      "2             88              10              155          0\n",
      "6           5001            2731            69344          4\n",
      "9           2368             671            20469          0\n",
      "10            78            1302              339          0\n",
      "The retweet predictions are\n",
      "[0. 0. 0. 0. 0.]\n"
     ]
    }
   ],
   "source": [
    "from sklearn.model_selection import train_test_split\n",
    "from sklearn.metrics import mean_absolute_error\n",
    "from sklearn.tree import DecisionTreeRegressor\n",
    "covid_model = DecisionTreeRegressor()\n",
    "covid_model.fit(X, y)\n",
    "\n",
    "predicted_retweets = covid_model.predict(X)\n",
    "mean_absolute_error(y, predicted_retweets)\n",
    "\n",
    "#In-Sample Scoring\n",
    "print(\"Making retweet predictions for the following 5 Tweets:\")\n",
    "print(X.head())\n",
    "print(\"The retweet predictions are\")\n",
    "print(covid_model.predict(X.head()))"
   ]
  },
  {
   "cell_type": "code",
   "execution_count": 87,
   "metadata": {},
   "outputs": [
    {
     "name": "stdout",
     "output_type": "stream",
     "text": [
      "General Degree of Error:  3.3684726252665356\n",
      "Max leaf nodes: 5  \t\t Mean Absolute Error:  4\n",
      "Max leaf nodes: 50  \t\t Mean Absolute Error:  3\n",
      "Max leaf nodes: 500  \t\t Mean Absolute Error:  3\n",
      "Max leaf nodes: 5000  \t\t Mean Absolute Error:  3\n",
      "Max leaf nodes: 50000  \t\t Mean Absolute Error:  3\n"
     ]
    }
   ],
   "source": [
    "from sklearn.metrics import mean_absolute_error\n",
    "from sklearn.tree import DecisionTreeRegressor\n",
    "\n",
    "#Out-of-Sample Scoring \n",
    "train_X, val_X, train_y, val_y = train_test_split(X, y, random_state = 0)\n",
    "\n",
    "covid_model = DecisionTreeRegressor()\n",
    "covid_model.fit(train_X, train_y)\n",
    "\n",
    "val_predictions = covid_model.predict(val_X)\n",
    "#Print the degree of error for out-of-sample\n",
    "print(\"General Degree of Error: \", mean_absolute_error(val_y, val_predictions))\n",
    "\n",
    "def get_mae(max_leaf_nodes, train_X, val_X, train_y, val_y):\n",
    "    model = DecisionTreeRegressor(max_leaf_nodes=max_leaf_nodes, random_state=0)\n",
    "    model.fit(train_X, train_y)\n",
    "    preds_val = model.predict(val_X)\n",
    "    mae = mean_absolute_error(val_y, preds_val)\n",
    "    return(mae)\n",
    "# compare MAE with differing values of max_leaf_nodes\n",
    "for max_leaf_nodes in [5, 50, 500, 5000, 50000]:\n",
    "    my_mae = get_mae(max_leaf_nodes, train_X, val_X, train_y, val_y)\n",
    "    print(\"Max leaf nodes: %d  \\t\\t Mean Absolute Error:  %d\" %(max_leaf_nodes, my_mae))"
   ]
  },
  {
   "cell_type": "markdown",
   "metadata": {},
   "source": [
    "### Optimal number of leaves is: 50"
   ]
  },
  {
   "cell_type": "code",
   "execution_count": 91,
   "metadata": {},
   "outputs": [
    {
     "name": "stdout",
     "output_type": "stream",
     "text": [
      "3.093335650859599\n"
     ]
    }
   ],
   "source": [
    "from sklearn.ensemble import RandomForestRegressor\n",
    "from sklearn.metrics import mean_absolute_error\n",
    "\n",
    "forest_model = RandomForestRegressor(random_state=1)\n",
    "forest_model.fit(train_X, train_y)\n",
    "melb_preds = forest_model.predict(val_X)\n",
    "print(mean_absolute_error(val_y, melb_preds))"
   ]
  },
  {
   "cell_type": "code",
   "execution_count": 107,
   "metadata": {},
   "outputs": [
    {
     "name": "stdout",
     "output_type": "stream",
     "text": [
      "Mean Absolute Error: 2.5207186656719527\n",
      "Mean Squared Error: 1358.2592976472283\n",
      "Root Mean Squared Error: 36.85456956263671\n"
     ]
    }
   ],
   "source": [
    "X = covidN.loc[:,['user_friends', 'user_followers', 'user_favourites', \n",
    "                    'favorites']].values\n",
    "y = covidN.retweets\n",
    "X_train, X_test, y_train, y_test = train_test_split(X, y, test_size=0.2, random_state=0)\n",
    "# Feature Scaling\n",
    "from sklearn.preprocessing import StandardScaler\n",
    "\n",
    "sc = StandardScaler()\n",
    "X_train = sc.fit_transform(X_train)\n",
    "X_test = sc.transform(X_test)\n",
    "\n",
    "regressor = RandomForestRegressor(n_estimators=50, random_state=1)\n",
    "regressor.fit(X_train, y_train)\n",
    "y_pred = regressor.predict(X_test)\n",
    "\n",
    "from sklearn import metrics\n",
    "\n",
    "print('Mean Absolute Error:', metrics.mean_absolute_error(y_test, y_pred))\n",
    "print('Mean Squared Error:', metrics.mean_squared_error(y_test, y_pred))\n",
    "print('Root Mean Squared Error:', np.sqrt(metrics.mean_squared_error(y_test, y_pred)))"
   ]
  },
  {
   "cell_type": "code",
   "execution_count": 102,
   "metadata": {},
   "outputs": [
    {
     "data": {
      "text/plain": [
       "count    29971.000000\n",
       "mean         3.868206\n",
       "std         58.872228\n",
       "min          0.000000\n",
       "25%          0.000000\n",
       "50%          0.000000\n",
       "75%          1.000000\n",
       "max       7695.000000\n",
       "Name: retweets, dtype: float64"
      ]
     },
     "execution_count": 102,
     "metadata": {},
     "output_type": "execute_result"
    }
   ],
   "source": [
    "covidN.retweets.describe()"
   ]
  },
  {
   "cell_type": "code",
   "execution_count": 110,
   "metadata": {},
   "outputs": [
    {
     "ename": "ValueError",
     "evalue": "Classification metrics can't handle a mix of multiclass and continuous targets",
     "output_type": "error",
     "traceback": [
      "\u001b[1;31m---------------------------------------------------------------------------\u001b[0m",
      "\u001b[1;31mValueError\u001b[0m                                Traceback (most recent call last)",
      "\u001b[1;32m<ipython-input-110-03569d0abbf3>\u001b[0m in \u001b[0;36m<module>\u001b[1;34m\u001b[0m\n\u001b[0;32m      8\u001b[0m \u001b[0mregressor\u001b[0m\u001b[1;33m.\u001b[0m\u001b[0mfit\u001b[0m\u001b[1;33m(\u001b[0m\u001b[0mX_train\u001b[0m\u001b[1;33m,\u001b[0m \u001b[0my_train\u001b[0m\u001b[1;33m)\u001b[0m\u001b[1;33m\u001b[0m\u001b[1;33m\u001b[0m\u001b[0m\n\u001b[0;32m      9\u001b[0m \u001b[0my_pred\u001b[0m \u001b[1;33m=\u001b[0m \u001b[0mregressor\u001b[0m\u001b[1;33m.\u001b[0m\u001b[0mpredict\u001b[0m\u001b[1;33m(\u001b[0m\u001b[0mX_test\u001b[0m\u001b[1;33m)\u001b[0m\u001b[1;33m\u001b[0m\u001b[1;33m\u001b[0m\u001b[0m\n\u001b[1;32m---> 10\u001b[1;33m \u001b[0mprint\u001b[0m\u001b[1;33m(\u001b[0m\u001b[0mconfusion_matrix\u001b[0m\u001b[1;33m(\u001b[0m\u001b[0my_test\u001b[0m\u001b[1;33m,\u001b[0m \u001b[0my_pred\u001b[0m\u001b[1;33m)\u001b[0m\u001b[1;33m)\u001b[0m\u001b[1;33m\u001b[0m\u001b[1;33m\u001b[0m\u001b[0m\n\u001b[0m\u001b[0;32m     11\u001b[0m \u001b[0mprint\u001b[0m\u001b[1;33m(\u001b[0m\u001b[0mclassification_report\u001b[0m\u001b[1;33m(\u001b[0m\u001b[0my_test\u001b[0m\u001b[1;33m,\u001b[0m \u001b[0my_pred\u001b[0m\u001b[1;33m)\u001b[0m\u001b[1;33m)\u001b[0m\u001b[1;33m\u001b[0m\u001b[1;33m\u001b[0m\u001b[0m\n\u001b[0;32m     12\u001b[0m \u001b[0mprint\u001b[0m\u001b[1;33m(\u001b[0m\u001b[0maccuracy_score\u001b[0m\u001b[1;33m(\u001b[0m\u001b[0my_test\u001b[0m\u001b[1;33m,\u001b[0m \u001b[0my_pred\u001b[0m\u001b[1;33m)\u001b[0m\u001b[1;33m)\u001b[0m\u001b[1;33m\u001b[0m\u001b[1;33m\u001b[0m\u001b[0m\n",
      "\u001b[1;32m~\\anaconda3\\lib\\site-packages\\sklearn\\utils\\validation.py\u001b[0m in \u001b[0;36minner_f\u001b[1;34m(*args, **kwargs)\u001b[0m\n\u001b[0;32m     61\u001b[0m             \u001b[0mextra_args\u001b[0m \u001b[1;33m=\u001b[0m \u001b[0mlen\u001b[0m\u001b[1;33m(\u001b[0m\u001b[0margs\u001b[0m\u001b[1;33m)\u001b[0m \u001b[1;33m-\u001b[0m \u001b[0mlen\u001b[0m\u001b[1;33m(\u001b[0m\u001b[0mall_args\u001b[0m\u001b[1;33m)\u001b[0m\u001b[1;33m\u001b[0m\u001b[1;33m\u001b[0m\u001b[0m\n\u001b[0;32m     62\u001b[0m             \u001b[1;32mif\u001b[0m \u001b[0mextra_args\u001b[0m \u001b[1;33m<=\u001b[0m \u001b[1;36m0\u001b[0m\u001b[1;33m:\u001b[0m\u001b[1;33m\u001b[0m\u001b[1;33m\u001b[0m\u001b[0m\n\u001b[1;32m---> 63\u001b[1;33m                 \u001b[1;32mreturn\u001b[0m \u001b[0mf\u001b[0m\u001b[1;33m(\u001b[0m\u001b[1;33m*\u001b[0m\u001b[0margs\u001b[0m\u001b[1;33m,\u001b[0m \u001b[1;33m**\u001b[0m\u001b[0mkwargs\u001b[0m\u001b[1;33m)\u001b[0m\u001b[1;33m\u001b[0m\u001b[1;33m\u001b[0m\u001b[0m\n\u001b[0m\u001b[0;32m     64\u001b[0m \u001b[1;33m\u001b[0m\u001b[0m\n\u001b[0;32m     65\u001b[0m             \u001b[1;31m# extra_args > 0\u001b[0m\u001b[1;33m\u001b[0m\u001b[1;33m\u001b[0m\u001b[1;33m\u001b[0m\u001b[0m\n",
      "\u001b[1;32m~\\anaconda3\\lib\\site-packages\\sklearn\\metrics\\_classification.py\u001b[0m in \u001b[0;36mconfusion_matrix\u001b[1;34m(y_true, y_pred, labels, sample_weight, normalize)\u001b[0m\n\u001b[0;32m    294\u001b[0m \u001b[1;33m\u001b[0m\u001b[0m\n\u001b[0;32m    295\u001b[0m     \"\"\"\n\u001b[1;32m--> 296\u001b[1;33m     \u001b[0my_type\u001b[0m\u001b[1;33m,\u001b[0m \u001b[0my_true\u001b[0m\u001b[1;33m,\u001b[0m \u001b[0my_pred\u001b[0m \u001b[1;33m=\u001b[0m \u001b[0m_check_targets\u001b[0m\u001b[1;33m(\u001b[0m\u001b[0my_true\u001b[0m\u001b[1;33m,\u001b[0m \u001b[0my_pred\u001b[0m\u001b[1;33m)\u001b[0m\u001b[1;33m\u001b[0m\u001b[1;33m\u001b[0m\u001b[0m\n\u001b[0m\u001b[0;32m    297\u001b[0m     \u001b[1;32mif\u001b[0m \u001b[0my_type\u001b[0m \u001b[1;32mnot\u001b[0m \u001b[1;32min\u001b[0m \u001b[1;33m(\u001b[0m\u001b[1;34m\"binary\"\u001b[0m\u001b[1;33m,\u001b[0m \u001b[1;34m\"multiclass\"\u001b[0m\u001b[1;33m)\u001b[0m\u001b[1;33m:\u001b[0m\u001b[1;33m\u001b[0m\u001b[1;33m\u001b[0m\u001b[0m\n\u001b[0;32m    298\u001b[0m         \u001b[1;32mraise\u001b[0m \u001b[0mValueError\u001b[0m\u001b[1;33m(\u001b[0m\u001b[1;34m\"%s is not supported\"\u001b[0m \u001b[1;33m%\u001b[0m \u001b[0my_type\u001b[0m\u001b[1;33m)\u001b[0m\u001b[1;33m\u001b[0m\u001b[1;33m\u001b[0m\u001b[0m\n",
      "\u001b[1;32m~\\anaconda3\\lib\\site-packages\\sklearn\\metrics\\_classification.py\u001b[0m in \u001b[0;36m_check_targets\u001b[1;34m(y_true, y_pred)\u001b[0m\n\u001b[0;32m     90\u001b[0m \u001b[1;33m\u001b[0m\u001b[0m\n\u001b[0;32m     91\u001b[0m     \u001b[1;32mif\u001b[0m \u001b[0mlen\u001b[0m\u001b[1;33m(\u001b[0m\u001b[0my_type\u001b[0m\u001b[1;33m)\u001b[0m \u001b[1;33m>\u001b[0m \u001b[1;36m1\u001b[0m\u001b[1;33m:\u001b[0m\u001b[1;33m\u001b[0m\u001b[1;33m\u001b[0m\u001b[0m\n\u001b[1;32m---> 92\u001b[1;33m         raise ValueError(\"Classification metrics can't handle a mix of {0} \"\n\u001b[0m\u001b[0;32m     93\u001b[0m                          \"and {1} targets\".format(type_true, type_pred))\n\u001b[0;32m     94\u001b[0m \u001b[1;33m\u001b[0m\u001b[0m\n",
      "\u001b[1;31mValueError\u001b[0m: Classification metrics can't handle a mix of multiclass and continuous targets"
     ]
    }
   ],
   "source": [
    "from sklearn.metrics import classification_report, confusion_matrix, accuracy_score\n",
    "\n",
    "X_train, X_test, y_train, y_test = train_test_split(X, y, test_size=0.2, random_state=0)\n",
    "sc = StandardScaler()\n",
    "X_train = sc.fit_transform(X_train)\n",
    "X_test = sc.transform(X_test)\n",
    "regressor = RandomForestRegressor(n_estimators=50, random_state=0)\n",
    "regressor.fit(X_train, y_train)\n",
    "y_pred = regressor.predict(X_test)\n",
    "print(confusion_matrix(y_test, y_pred))\n",
    "print(classification_report(y_test, y_pred))\n",
    "print(accuracy_score(y_test, y_pred))"
   ]
  },
  {
   "cell_type": "code",
   "execution_count": null,
   "metadata": {},
   "outputs": [],
   "source": []
  }
 ],
 "metadata": {
  "kernelspec": {
   "display_name": "Python 3",
   "language": "python",
   "name": "python3"
  },
  "language_info": {
   "codemirror_mode": {
    "name": "ipython",
    "version": 3
   },
   "file_extension": ".py",
   "mimetype": "text/x-python",
   "name": "python",
   "nbconvert_exporter": "python",
   "pygments_lexer": "ipython3",
   "version": "3.8.5"
  }
 },
 "nbformat": 4,
 "nbformat_minor": 4
}
